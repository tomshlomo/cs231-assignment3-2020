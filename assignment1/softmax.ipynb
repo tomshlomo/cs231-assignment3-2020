{
 "cells": [
  {
   "cell_type": "markdown",
   "metadata": {
    "tags": [
     "pdf-title"
    ]
   },
   "source": [
    "# Softmax exercise\n",
    "\n",
    "*Complete and hand in this completed worksheet (including its outputs and any supporting code outside of the worksheet) with your assignment submission. For more details see the [assignments page](http://vision.stanford.edu/teaching/cs231n/assignments.html) on the course website.*\n",
    "\n",
    "This exercise is analogous to the SVM exercise. You will:\n",
    "\n",
    "- implement a fully-vectorized **loss function** for the Softmax classifier\n",
    "- implement the fully-vectorized expression for its **analytic gradient**\n",
    "- **check your implementation** with numerical gradient\n",
    "- use a validation set to **tune the learning rate and regularization** strength\n",
    "- **optimize** the loss function with **SGD**\n",
    "- **visualize** the final learned weights\n"
   ]
  },
  {
   "cell_type": "code",
   "execution_count": 2,
   "metadata": {
    "tags": [
     "pdf-ignore"
    ]
   },
   "outputs": [],
   "source": [
    "import random\n",
    "import numpy as np\n",
    "from cs231n.data_utils import load_CIFAR10\n",
    "import matplotlib.pyplot as plt\n",
    "\n",
    "%matplotlib inline\n",
    "plt.rcParams['figure.figsize'] = (10.0, 8.0) # set default size of plots\n",
    "plt.rcParams['image.interpolation'] = 'nearest'\n",
    "plt.rcParams['image.cmap'] = 'gray'\n",
    "\n",
    "# for auto-reloading extenrnal modules\n",
    "# see http://stackoverflow.com/questions/1907993/autoreload-of-modules-in-ipython\n",
    "%load_ext autoreload\n",
    "%autoreload 2"
   ]
  },
  {
   "cell_type": "code",
   "execution_count": 3,
   "metadata": {
    "tags": [
     "pdf-ignore"
    ]
   },
   "outputs": [
    {
     "name": "stdout",
     "output_type": "stream",
     "text": [
      "Train data shape:  (49000, 3073)\n",
      "Train labels shape:  (49000,)\n",
      "Validation data shape:  (1000, 3073)\n",
      "Validation labels shape:  (1000,)\n",
      "Test data shape:  (1000, 3073)\n",
      "Test labels shape:  (1000,)\n",
      "dev data shape:  (500, 3073)\n",
      "dev labels shape:  (500,)\n"
     ]
    }
   ],
   "source": [
    "def get_CIFAR10_data(num_training=49000, num_validation=1000, num_test=1000, num_dev=500):\n",
    "    \"\"\"\n",
    "    Load the CIFAR-10 dataset from disk and perform preprocessing to prepare\n",
    "    it for the linear classifier. These are the same steps as we used for the\n",
    "    SVM, but condensed to a single function.  \n",
    "    \"\"\"\n",
    "    # Load the raw CIFAR-10 data\n",
    "    cifar10_dir = 'cs231n/datasets/cifar-10-batches-py'\n",
    "    \n",
    "    # Cleaning up variables to prevent loading data multiple times (which may cause memory issue)\n",
    "    try:\n",
    "       del X_train, y_train\n",
    "       del X_test, y_test\n",
    "       print('Clear previously loaded data.')\n",
    "    except:\n",
    "       pass\n",
    "\n",
    "    X_train, y_train, X_test, y_test = load_CIFAR10(cifar10_dir)\n",
    "    \n",
    "    # subsample the data\n",
    "    mask = list(range(num_training, num_training + num_validation))\n",
    "    X_val = X_train[mask]\n",
    "    y_val = y_train[mask]\n",
    "    mask = list(range(num_training))\n",
    "    X_train = X_train[mask]\n",
    "    y_train = y_train[mask]\n",
    "    mask = list(range(num_test))\n",
    "    X_test = X_test[mask]\n",
    "    y_test = y_test[mask]\n",
    "    mask = np.random.choice(num_training, num_dev, replace=False)\n",
    "    X_dev = X_train[mask]\n",
    "    y_dev = y_train[mask]\n",
    "    \n",
    "    # Preprocessing: reshape the image data into rows\n",
    "    X_train = np.reshape(X_train, (X_train.shape[0], -1))\n",
    "    X_val = np.reshape(X_val, (X_val.shape[0], -1))\n",
    "    X_test = np.reshape(X_test, (X_test.shape[0], -1))\n",
    "    X_dev = np.reshape(X_dev, (X_dev.shape[0], -1))\n",
    "    \n",
    "    # Normalize the data: subtract the mean image\n",
    "    mean_image = np.mean(X_train, axis = 0)\n",
    "    X_train -= mean_image\n",
    "    X_val -= mean_image\n",
    "    X_test -= mean_image\n",
    "    X_dev -= mean_image\n",
    "    \n",
    "    # add bias dimension and transform into columns\n",
    "    X_train = np.hstack([X_train, np.ones((X_train.shape[0], 1))])\n",
    "    X_val = np.hstack([X_val, np.ones((X_val.shape[0], 1))])\n",
    "    X_test = np.hstack([X_test, np.ones((X_test.shape[0], 1))])\n",
    "    X_dev = np.hstack([X_dev, np.ones((X_dev.shape[0], 1))])\n",
    "    \n",
    "    return X_train, y_train, X_val, y_val, X_test, y_test, X_dev, y_dev\n",
    "\n",
    "\n",
    "# Invoke the above function to get our data.\n",
    "X_train, y_train, X_val, y_val, X_test, y_test, X_dev, y_dev = get_CIFAR10_data()\n",
    "print('Train data shape: ', X_train.shape)\n",
    "print('Train labels shape: ', y_train.shape)\n",
    "print('Validation data shape: ', X_val.shape)\n",
    "print('Validation labels shape: ', y_val.shape)\n",
    "print('Test data shape: ', X_test.shape)\n",
    "print('Test labels shape: ', y_test.shape)\n",
    "print('dev data shape: ', X_dev.shape)\n",
    "print('dev labels shape: ', y_dev.shape)"
   ]
  },
  {
   "cell_type": "markdown",
   "metadata": {},
   "source": [
    "## Softmax Classifier\n",
    "\n",
    "Your code for this section will all be written inside **cs231n/classifiers/softmax.py**. \n"
   ]
  },
  {
   "cell_type": "code",
   "execution_count": 15,
   "metadata": {},
   "outputs": [
    {
     "name": "stdout",
     "output_type": "stream",
     "text": [
      "loss: 2.311103\n",
      "sanity check: 2.302585\n"
     ]
    }
   ],
   "source": [
    "# First implement the naive softmax loss function with nested loops.\n",
    "# Open the file cs231n/classifiers/softmax.py and implement the\n",
    "# softmax_loss_naive function.\n",
    "\n",
    "from cs231n.classifiers.softmax import softmax_loss_naive\n",
    "import time\n",
    "\n",
    "# Generate a random softmax weight matrix and use it to compute the loss.\n",
    "W = np.random.randn(3073, 10) * 0.0001\n",
    "loss, grad = softmax_loss_naive(W, X_dev, y_dev, 0.0)\n",
    "\n",
    "# As a rough sanity check, our loss should be something close to -log(0.1).\n",
    "print('loss: %f' % loss)\n",
    "print('sanity check: %f' % (-np.log(0.1)))"
   ]
  },
  {
   "cell_type": "markdown",
   "metadata": {
    "tags": [
     "pdf-inline"
    ]
   },
   "source": [
    "**Inline Question 1**\n",
    "\n",
    "Why do we expect our loss to be close to -log(0.1)? Explain briefly.**\n",
    "\n",
    "$\\color{blue}{\\textit Your Answer:}$ *Fill this in* \n",
    "\n"
   ]
  },
  {
   "cell_type": "code",
   "execution_count": 18,
   "metadata": {},
   "outputs": [
    {
     "name": "stdout",
     "output_type": "stream",
     "text": [
      "numerical: 0.548060 analytic: 0.548060, relative error: 3.571909e-08\n",
      "numerical: 1.188979 analytic: 1.188979, relative error: 7.650512e-08\n",
      "numerical: 0.826339 analytic: 0.826339, relative error: 1.902090e-08\n",
      "numerical: 2.191496 analytic: 2.191496, relative error: 4.347170e-09\n",
      "numerical: 0.685111 analytic: 0.685111, relative error: 1.085341e-08\n",
      "numerical: 1.181548 analytic: 1.181548, relative error: 5.295429e-09\n",
      "numerical: 0.779211 analytic: 0.779211, relative error: 8.605870e-09\n",
      "numerical: 0.993149 analytic: 0.993149, relative error: 3.282515e-09\n",
      "numerical: 0.448614 analytic: 0.448614, relative error: 1.653316e-07\n",
      "numerical: 1.652055 analytic: 1.652055, relative error: 1.241959e-08\n",
      "numerical: -3.449976 analytic: -3.449976, relative error: 2.127048e-08\n",
      "numerical: -1.930999 analytic: -1.930998, relative error: 1.970808e-09\n",
      "numerical: -3.527963 analytic: -3.527963, relative error: 2.379157e-08\n",
      "numerical: -0.635135 analytic: -0.635135, relative error: 6.212285e-08\n",
      "numerical: -0.450382 analytic: -0.450382, relative error: 2.303023e-08\n",
      "numerical: -0.739192 analytic: -0.739192, relative error: 8.895099e-09\n",
      "numerical: -0.120146 analytic: -0.120146, relative error: 1.949761e-07\n",
      "numerical: 0.225568 analytic: 0.225568, relative error: 1.566319e-07\n",
      "numerical: 0.363485 analytic: 0.363485, relative error: 5.739147e-09\n",
      "numerical: -1.357514 analytic: -1.357514, relative error: 7.688139e-09\n"
     ]
    }
   ],
   "source": [
    "# Complete the implementation of softmax_loss_naive and implement a (naive)\n",
    "# version of the gradient that uses nested loops.\n",
    "loss, grad = softmax_loss_naive(W, X_dev, y_dev, 0.0)\n",
    "\n",
    "# As we did for the SVM, use numeric gradient checking as a debugging tool.\n",
    "# The numeric gradient should be close to the analytic gradient.\n",
    "from cs231n.gradient_check import grad_check_sparse\n",
    "f = lambda w: softmax_loss_naive(w, X_dev, y_dev, 0.0)[0]\n",
    "grad_numerical = grad_check_sparse(f, W, grad, 10)\n",
    "\n",
    "# similar to SVM case, do another gradient check with regularization\n",
    "loss, grad = softmax_loss_naive(W, X_dev, y_dev, 5e1)\n",
    "f = lambda w: softmax_loss_naive(w, X_dev, y_dev, 5e1)[0]\n",
    "grad_numerical = grad_check_sparse(f, W, grad, 10)"
   ]
  },
  {
   "cell_type": "code",
   "execution_count": 25,
   "metadata": {},
   "outputs": [
    {
     "name": "stdout",
     "output_type": "stream",
     "text": [
      "naive loss: 2.311103e+00 computed in 0.093697s\n",
      "vectorized loss: 2.311103e+00 computed in 0.003297s\n",
      "Loss difference: 0.000000\n",
      "Gradient difference: 0.000000\n"
     ]
    }
   ],
   "source": [
    "# Now that we have a naive implementation of the softmax loss function and its gradient,\n",
    "# implement a vectorized version in softmax_loss_vectorized.\n",
    "# The two versions should compute the same results, but the vectorized version should be\n",
    "# much faster.\n",
    "tic = time.time()\n",
    "loss_naive, grad_naive = softmax_loss_naive(W, X_dev, y_dev, 0.000005)\n",
    "toc = time.time()\n",
    "print('naive loss: %e computed in %fs' % (loss_naive, toc - tic))\n",
    "\n",
    "from cs231n.classifiers.softmax import softmax_loss_vectorized\n",
    "tic = time.time()\n",
    "loss_vectorized, grad_vectorized = softmax_loss_vectorized(W, X_dev, y_dev, 0.000005)\n",
    "toc = time.time()\n",
    "print('vectorized loss: %e computed in %fs' % (loss_vectorized, toc - tic))\n",
    "\n",
    "# As we did for the SVM, we use the Frobenius norm to compare the two versions\n",
    "# of the gradient.\n",
    "grad_difference = np.linalg.norm(grad_naive - grad_vectorized, ord='fro')\n",
    "print('Loss difference: %f' % np.abs(loss_naive - loss_vectorized))\n",
    "print('Gradient difference: %f' % grad_difference)"
   ]
  },
  {
   "cell_type": "code",
   "execution_count": 26,
   "metadata": {
    "tags": [
     "code"
    ]
   },
   "outputs": [
    {
     "name": "stdout",
     "output_type": "stream",
     "text": [
      "(0.2533469387755102, 0.249)\n",
      "(0.24714285714285714, 0.251)\n",
      "(0.2593061224489796, 0.252)\n",
      "(0.28330612244897957, 0.291)\n",
      "(0.3410204081632653, 0.346)\n",
      "(0.34338775510204084, 0.356)\n",
      "(0.3155918367346939, 0.323)\n",
      "(0.2787551020408163, 0.294)\n",
      "(0.2622857142857143, 0.282)\n",
      "(0.23083673469387755, 0.24)\n",
      "(0.2682857142857143, 0.291)\n",
      "(0.2794081632653061, 0.27)\n",
      "(0.29553061224489796, 0.317)\n",
      "(0.33263265306122447, 0.335)\n",
      "(0.3669591836734694, 0.385)\n",
      "(0.34124489795918367, 0.356)\n",
      "(0.3096530612244898, 0.325)\n",
      "(0.27385714285714285, 0.289)\n",
      "(0.2731224489795918, 0.298)\n",
      "(0.2500816326530612, 0.257)\n",
      "(0.29959183673469386, 0.325)\n",
      "(0.3009591836734694, 0.308)\n",
      "(0.3333469387755102, 0.32)\n",
      "(0.37757142857142856, 0.377)\n",
      "(0.3681632653061224, 0.381)\n",
      "(0.34520408163265304, 0.357)\n",
      "(0.30520408163265306, 0.334)\n",
      "(0.2796734693877551, 0.287)\n",
      "(0.26351020408163267, 0.28)\n",
      "(0.23516326530612244, 0.233)\n",
      "(0.3213877551020408, 0.329)\n",
      "(0.33846938775510205, 0.332)\n",
      "(0.3764489795918367, 0.375)\n",
      "(0.39040816326530614, 0.403)\n",
      "(0.3697142857142857, 0.383)\n",
      "(0.3385714285714286, 0.357)\n",
      "(0.304469387755102, 0.31)\n",
      "(0.2640408163265306, 0.278)\n",
      "(0.25773469387755105, 0.259)\n",
      "(0.2220204081632653, 0.221)\n",
      "(0.3523265306122449, 0.335)\n",
      "(0.3729183673469388, 0.379)\n",
      "(0.40155102040816326, 0.403)\n",
      "(0.38793877551020406, 0.388)\n",
      "(0.3662244897959184, 0.384)\n",
      "(0.3419591836734694, 0.355)\n",
      "(0.3047755102040816, 0.308)\n",
      "(0.2483877551020408, 0.257)\n",
      "(0.22251020408163266, 0.22)\n",
      "(0.16106122448979593, 0.161)\n",
      "(0.3763265306122449, 0.359)\n",
      "(0.39848979591836736, 0.415)\n",
      "(0.401265306122449, 0.393)\n",
      "(0.385, 0.395)\n",
      "(0.35851020408163264, 0.357)\n",
      "(0.3133061224489796, 0.334)\n",
      "(0.2925510204081633, 0.316)\n",
      "(0.2568367346938776, 0.261)\n",
      "(0.2303265306122449, 0.226)\n"
     ]
    },
    {
     "name": "stderr",
     "output_type": "stream",
     "text": [
      "/Users/tomshlomo/Google Drive/Courses/cs231/HW1/cs231n/classifiers/softmax.py:93: RuntimeWarning: overflow encountered in double_scalars\n",
      "  # *****END OF YOUR CODE (DO NOT DELETE/MODIFY THIS LINE)*****\n",
      "/Users/tomshlomo/.conda/envs/cs231n/lib/python3.7/site-packages/numpy/core/fromnumeric.py:90: RuntimeWarning: overflow encountered in reduce\n",
      "  return ufunc.reduce(obj, axis, dtype, out, **passkwargs)\n",
      "/Users/tomshlomo/Google Drive/Courses/cs231/HW1/cs231n/classifiers/softmax.py:93: RuntimeWarning: overflow encountered in multiply\n",
      "  # *****END OF YOUR CODE (DO NOT DELETE/MODIFY THIS LINE)*****\n"
     ]
    },
    {
     "name": "stdout",
     "output_type": "stream",
     "text": [
      "(0.09542857142857143, 0.088)\n",
      "(0.3902244897959184, 0.378)\n",
      "(0.40361224489795916, 0.404)\n",
      "(0.39683673469387754, 0.422)\n",
      "(0.3765918367346939, 0.386)\n",
      "(0.3594081632653061, 0.381)\n",
      "(0.3222244897959184, 0.344)\n",
      "(0.2715714285714286, 0.281)\n",
      "(0.26702040816326533, 0.27)\n",
      "(0.09116326530612245, 0.076)\n"
     ]
    },
    {
     "name": "stderr",
     "output_type": "stream",
     "text": [
      "/Users/tomshlomo/Google Drive/Courses/cs231/HW1/cs231n/classifiers/softmax.py:94: RuntimeWarning: overflow encountered in multiply\n",
      "  \n"
     ]
    },
    {
     "name": "stdout",
     "output_type": "stream",
     "text": [
      "(0.10026530612244898, 0.087)\n",
      "(0.39177551020408163, 0.373)\n",
      "(0.41185714285714287, 0.396)\n",
      "(0.378530612244898, 0.369)\n",
      "(0.3420408163265306, 0.343)\n",
      "(0.2990204081632653, 0.293)\n",
      "(0.2676938775510204, 0.272)\n",
      "(0.23565306122448978, 0.237)\n",
      "(0.1233469387755102, 0.121)\n",
      "(0.08563265306122449, 0.086)\n",
      "(0.10026530612244898, 0.087)\n",
      "(0.3876122448979592, 0.376)\n",
      "(0.32840816326530614, 0.345)\n",
      "(0.3347551020408163, 0.35)\n",
      "(0.27718367346938777, 0.276)\n",
      "(0.24351020408163265, 0.286)\n",
      "(0.19628571428571429, 0.2)\n",
      "(0.1693673469387755, 0.174)\n",
      "(0.13930612244897958, 0.143)\n",
      "(0.10026530612244898, 0.087)\n",
      "(0.10026530612244898, 0.087)\n",
      "(0.343734693877551, 0.34)\n",
      "(0.30044897959183675, 0.302)\n",
      "(0.2024081632653061, 0.189)\n",
      "(0.2136734693877551, 0.216)\n",
      "(0.22320408163265307, 0.23)\n",
      "(0.11042857142857143, 0.104)\n",
      "(0.08597959183673469, 0.078)\n",
      "(0.07610204081632653, 0.069)\n"
     ]
    },
    {
     "name": "stderr",
     "output_type": "stream",
     "text": [
      "/Users/tomshlomo/.conda/envs/cs231n/lib/python3.7/site-packages/numpy/core/_methods.py:151: RuntimeWarning: overflow encountered in reduce\n",
      "  ret = umr_sum(arr, axis, dtype, out, keepdims)\n"
     ]
    },
    {
     "name": "stdout",
     "output_type": "stream",
     "text": [
      "(0.10026530612244898, 0.087)\n"
     ]
    },
    {
     "name": "stderr",
     "output_type": "stream",
     "text": [
      "/Users/tomshlomo/Google Drive/Courses/cs231/HW1/cs231n/classifiers/softmax.py:81: RuntimeWarning: invalid value encountered in subtract\n",
      "  f -= np.max(f,axis=1).reshape([-1,1])\n"
     ]
    },
    {
     "name": "stdout",
     "output_type": "stream",
     "text": [
      "(0.10026530612244898, 0.087)\n",
      "best validation accuracy achieved during cross-validation: 0.422000\n"
     ]
    }
   ],
   "source": [
    "# Use the validation set to tune hyperparameters (regularization strength and\n",
    "# learning rate). You should experiment with different ranges for the learning\n",
    "# rates and regularization strengths; if you are careful you should be able to\n",
    "# get a classification accuracy of over 0.35 on the validation set.\n",
    "from cs231n.classifiers import Softmax\n",
    "results = {}\n",
    "best_val = -1\n",
    "best_softmax = None\n",
    "learning_rates = np.logspace(-7, -5, 10)\n",
    "regularization_strengths = np.logspace(2, 6, 10)\n",
    "\n",
    "################################################################################\n",
    "# TODO:                                                                        #\n",
    "# Use the validation set to set the learning rate and regularization strength. #\n",
    "# This should be identical to the validation that you did for the SVM; save    #\n",
    "# the best trained softmax classifer in best_softmax.                          #\n",
    "################################################################################\n",
    "# *****START OF YOUR CODE (DO NOT DELETE/MODIFY THIS LINE)*****\n",
    "\n",
    "pass\n",
    "\n",
    "# *****END OF YOUR CODE (DO NOT DELETE/MODIFY THIS LINE)*****\n",
    "    \n",
    "for lr in learning_rates:\n",
    "    for reg in regularization_strengths:\n",
    "        classifier = Softmax()\n",
    "        loss_hist = classifier.train(X_train, y_train, learning_rate=lr, reg=reg,\n",
    "                              num_iters=1500, verbose=False)\n",
    "        y_train_pred = classifier.predict(X_train)\n",
    "        y_val_pred = classifier.predict(X_val)\n",
    "        results[(lr,reg)] = ( np.mean(y_train == y_train_pred) , np.mean(y_val == y_val_pred) )\n",
    "        print(results[(lr,reg)])\n",
    "        if results[(lr,reg)][1] > best_val:\n",
    "            best_softmax = classifier\n",
    "            best_val = results[(lr,reg)][1]\n",
    "    \n",
    "# Print out results.\n",
    "#for lr, reg in sorted(results):\n",
    "#    train_accuracy, val_accuracy = results[(lr, reg)]\n",
    "#    print('lr %e reg %e train accuracy: %f val accuracy: %f' % (\n",
    "#                lr, reg, train_accuracy, val_accuracy))\n",
    "    \n",
    "print('best validation accuracy achieved during cross-validation: %f' % best_val)"
   ]
  },
  {
   "cell_type": "code",
   "execution_count": 27,
   "metadata": {},
   "outputs": [
    {
     "name": "stdout",
     "output_type": "stream",
     "text": [
      "softmax on raw pixels final test set accuracy: 0.380000\n"
     ]
    }
   ],
   "source": [
    "# evaluate on test set\n",
    "# Evaluate the best softmax on test set\n",
    "y_test_pred = best_softmax.predict(X_test)\n",
    "test_accuracy = np.mean(y_test == y_test_pred)\n",
    "print('softmax on raw pixels final test set accuracy: %f' % (test_accuracy, ))"
   ]
  },
  {
   "cell_type": "markdown",
   "metadata": {
    "tags": [
     "pdf-inline"
    ]
   },
   "source": [
    "**Inline Question 2** - *True or False*\n",
    "\n",
    "Suppose the overall training loss is defined as the sum of the per-datapoint loss over all training examples. It is possible to add a new datapoint to a training set that would leave the SVM loss unchanged, but this is not the case with the Softmax classifier loss.\n",
    "\n",
    "$\\color{blue}{\\textit Your Answer:}$\n",
    "\n",
    "\n",
    "$\\color{blue}{\\textit Your Explanation:}$\n",
    "\n"
   ]
  },
  {
   "cell_type": "code",
   "execution_count": 28,
   "metadata": {},
   "outputs": [
    {
     "data": {
      "image/png": "[encoded data removed]",
      "text/plain": [
       "<Figure size 720x576 with 10 Axes>"
      ]
     },
     "metadata": {
      "needs_background": "light"
     },
     "output_type": "display_data"
    }
   ],
   "source": [
    "# Visualize the learned weights for each class\n",
    "w = best_softmax.W[:-1,:] # strip out the bias\n",
    "w = w.reshape(32, 32, 3, 10)\n",
    "\n",
    "w_min, w_max = np.min(w), np.max(w)\n",
    "\n",
    "classes = ['plane', 'car', 'bird', 'cat', 'deer', 'dog', 'frog', 'horse', 'ship', 'truck']\n",
    "for i in range(10):\n",
    "    plt.subplot(2, 5, i + 1)\n",
    "    \n",
    "    # Rescale the weights to be between 0 and 255\n",
    "    wimg = 255.0 * (w[:, :, :, i].squeeze() - w_min) / (w_max - w_min)\n",
    "    plt.imshow(wimg.astype('uint8'))\n",
    "    plt.axis('off')\n",
    "    plt.title(classes[i])"
   ]
  },
  {
   "cell_type": "code",
   "execution_count": null,
   "metadata": {},
   "outputs": [],
   "source": []
  }
 ],
 "metadata": {
  "kernelspec": {
   "display_name": "Python 3",
   "language": "python",
   "name": "python3"
  },
  "language_info": {
   "codemirror_mode": {
    "name": "ipython",
    "version": 3
   },
   "file_extension": ".py",
   "mimetype": "text/x-python",
   "name": "python",
   "nbconvert_exporter": "python",
   "pygments_lexer": "ipython3",
   "version": "3.7.6"
  }
 },
 "nbformat": 4,
 "nbformat_minor": 1
}
